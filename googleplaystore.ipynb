{
 "cells": [
  {
   "cell_type": "markdown",
   "metadata": {},
   "source": [
    "### Import all libraries and data "
   ]
  },
  {
   "cell_type": "code",
   "execution_count": 1,
   "metadata": {},
   "outputs": [
    {
     "data": {
      "text/html": [
       "<div>\n",
       "<style scoped>\n",
       "    .dataframe tbody tr th:only-of-type {\n",
       "        vertical-align: middle;\n",
       "    }\n",
       "\n",
       "    .dataframe tbody tr th {\n",
       "        vertical-align: top;\n",
       "    }\n",
       "\n",
       "    .dataframe thead th {\n",
       "        text-align: right;\n",
       "    }\n",
       "</style>\n",
       "<table border=\"1\" class=\"dataframe\">\n",
       "  <thead>\n",
       "    <tr style=\"text-align: right;\">\n",
       "      <th></th>\n",
       "      <th>App</th>\n",
       "      <th>Category</th>\n",
       "      <th>Rating</th>\n",
       "      <th>Reviews</th>\n",
       "      <th>Size</th>\n",
       "      <th>Installs</th>\n",
       "      <th>Type</th>\n",
       "      <th>Price</th>\n",
       "      <th>Content Rating</th>\n",
       "      <th>Genres</th>\n",
       "      <th>Last Updated</th>\n",
       "      <th>Current Ver</th>\n",
       "      <th>Android Ver</th>\n",
       "    </tr>\n",
       "  </thead>\n",
       "  <tbody>\n",
       "    <tr>\n",
       "      <th>0</th>\n",
       "      <td>Photo Editor &amp; Candy Camera &amp; Grid &amp; ScrapBook</td>\n",
       "      <td>ART_AND_DESIGN</td>\n",
       "      <td>4.1</td>\n",
       "      <td>159</td>\n",
       "      <td>19M</td>\n",
       "      <td>10,000+</td>\n",
       "      <td>Free</td>\n",
       "      <td>0</td>\n",
       "      <td>Everyone</td>\n",
       "      <td>Art &amp; Design</td>\n",
       "      <td>January 7, 2018</td>\n",
       "      <td>1.0.0</td>\n",
       "      <td>4.0.3 and up</td>\n",
       "    </tr>\n",
       "    <tr>\n",
       "      <th>1</th>\n",
       "      <td>Coloring book moana</td>\n",
       "      <td>ART_AND_DESIGN</td>\n",
       "      <td>3.9</td>\n",
       "      <td>967</td>\n",
       "      <td>14M</td>\n",
       "      <td>500,000+</td>\n",
       "      <td>Free</td>\n",
       "      <td>0</td>\n",
       "      <td>Everyone</td>\n",
       "      <td>Art &amp; Design;Pretend Play</td>\n",
       "      <td>January 15, 2018</td>\n",
       "      <td>2.0.0</td>\n",
       "      <td>4.0.3 and up</td>\n",
       "    </tr>\n",
       "    <tr>\n",
       "      <th>2</th>\n",
       "      <td>U Launcher Lite – FREE Live Cool Themes, Hide ...</td>\n",
       "      <td>ART_AND_DESIGN</td>\n",
       "      <td>4.7</td>\n",
       "      <td>87510</td>\n",
       "      <td>8.7M</td>\n",
       "      <td>5,000,000+</td>\n",
       "      <td>Free</td>\n",
       "      <td>0</td>\n",
       "      <td>Everyone</td>\n",
       "      <td>Art &amp; Design</td>\n",
       "      <td>August 1, 2018</td>\n",
       "      <td>1.2.4</td>\n",
       "      <td>4.0.3 and up</td>\n",
       "    </tr>\n",
       "    <tr>\n",
       "      <th>3</th>\n",
       "      <td>Sketch - Draw &amp; Paint</td>\n",
       "      <td>ART_AND_DESIGN</td>\n",
       "      <td>4.5</td>\n",
       "      <td>215644</td>\n",
       "      <td>25M</td>\n",
       "      <td>50,000,000+</td>\n",
       "      <td>Free</td>\n",
       "      <td>0</td>\n",
       "      <td>Teen</td>\n",
       "      <td>Art &amp; Design</td>\n",
       "      <td>June 8, 2018</td>\n",
       "      <td>Varies with device</td>\n",
       "      <td>4.2 and up</td>\n",
       "    </tr>\n",
       "    <tr>\n",
       "      <th>4</th>\n",
       "      <td>Pixel Draw - Number Art Coloring Book</td>\n",
       "      <td>ART_AND_DESIGN</td>\n",
       "      <td>4.3</td>\n",
       "      <td>967</td>\n",
       "      <td>2.8M</td>\n",
       "      <td>100,000+</td>\n",
       "      <td>Free</td>\n",
       "      <td>0</td>\n",
       "      <td>Everyone</td>\n",
       "      <td>Art &amp; Design;Creativity</td>\n",
       "      <td>June 20, 2018</td>\n",
       "      <td>1.1</td>\n",
       "      <td>4.4 and up</td>\n",
       "    </tr>\n",
       "  </tbody>\n",
       "</table>\n",
       "</div>"
      ],
      "text/plain": [
       "                                                 App        Category  Rating  \\\n",
       "0     Photo Editor & Candy Camera & Grid & ScrapBook  ART_AND_DESIGN     4.1   \n",
       "1                                Coloring book moana  ART_AND_DESIGN     3.9   \n",
       "2  U Launcher Lite – FREE Live Cool Themes, Hide ...  ART_AND_DESIGN     4.7   \n",
       "3                              Sketch - Draw & Paint  ART_AND_DESIGN     4.5   \n",
       "4              Pixel Draw - Number Art Coloring Book  ART_AND_DESIGN     4.3   \n",
       "\n",
       "  Reviews  Size     Installs  Type Price Content Rating  \\\n",
       "0     159   19M      10,000+  Free     0       Everyone   \n",
       "1     967   14M     500,000+  Free     0       Everyone   \n",
       "2   87510  8.7M   5,000,000+  Free     0       Everyone   \n",
       "3  215644   25M  50,000,000+  Free     0           Teen   \n",
       "4     967  2.8M     100,000+  Free     0       Everyone   \n",
       "\n",
       "                      Genres      Last Updated         Current Ver  \\\n",
       "0               Art & Design   January 7, 2018               1.0.0   \n",
       "1  Art & Design;Pretend Play  January 15, 2018               2.0.0   \n",
       "2               Art & Design    August 1, 2018               1.2.4   \n",
       "3               Art & Design      June 8, 2018  Varies with device   \n",
       "4    Art & Design;Creativity     June 20, 2018                 1.1   \n",
       "\n",
       "    Android Ver  \n",
       "0  4.0.3 and up  \n",
       "1  4.0.3 and up  \n",
       "2  4.0.3 and up  \n",
       "3    4.2 and up  \n",
       "4    4.4 and up  "
      ]
     },
     "execution_count": 1,
     "metadata": {},
     "output_type": "execute_result"
    }
   ],
   "source": [
    "import pandas as pd\n",
    "import matplotlib.pyplot as plt\n",
    "import numpy as np\n",
    "import seaborn as sns\n",
    "import missingno as msno\n",
    "import datetime as dt\n",
    "from datasist.structdata import detect_outliers\n",
    "df_data = pd.read_csv(r\"D:\\CODING\\DEPI\\DATA PREPROCESSING\\googleplaystore.csv\")\n",
    "df_data = pd.DataFrame(df_data)\n",
    "df_data.head()"
   ]
  },
  {
   "cell_type": "code",
   "execution_count": 2,
   "metadata": {},
   "outputs": [
    {
     "data": {
      "text/plain": [
       "App                object\n",
       "Category           object\n",
       "Rating            float64\n",
       "Reviews            object\n",
       "Size               object\n",
       "Installs           object\n",
       "Type               object\n",
       "Price              object\n",
       "Content Rating     object\n",
       "Genres             object\n",
       "Last Updated       object\n",
       "Current Ver        object\n",
       "Android Ver        object\n",
       "dtype: object"
      ]
     },
     "execution_count": 2,
     "metadata": {},
     "output_type": "execute_result"
    }
   ],
   "source": [
    "df_data.dtypes"
   ]
  },
  {
   "cell_type": "markdown",
   "metadata": {},
   "source": [
    "### Reviews , size and price can't be object"
   ]
  },
  {
   "cell_type": "code",
   "execution_count": 3,
   "metadata": {},
   "outputs": [
    {
     "data": {
      "text/plain": [
       "App                  0\n",
       "Category             0\n",
       "Rating            1474\n",
       "Reviews              0\n",
       "Size                 0\n",
       "Installs             0\n",
       "Type                 1\n",
       "Price                0\n",
       "Content Rating       1\n",
       "Genres               0\n",
       "Last Updated         0\n",
       "Current Ver          8\n",
       "Android Ver          3\n",
       "dtype: int64"
      ]
     },
     "execution_count": 3,
     "metadata": {},
     "output_type": "execute_result"
    }
   ],
   "source": [
    "df_data.isnull().sum()"
   ]
  },
  {
   "cell_type": "markdown",
   "metadata": {},
   "source": [
    "### There is missing data in Rating "
   ]
  },
  {
   "cell_type": "markdown",
   "metadata": {},
   "source": [
    "### Remove all duplicated rows"
   ]
  },
  {
   "cell_type": "code",
   "execution_count": 4,
   "metadata": {},
   "outputs": [
    {
     "data": {
      "text/plain": [
       "np.int64(483)"
      ]
     },
     "execution_count": 4,
     "metadata": {},
     "output_type": "execute_result"
    }
   ],
   "source": [
    "df_data.duplicated().sum()"
   ]
  },
  {
   "cell_type": "code",
   "execution_count": 5,
   "metadata": {},
   "outputs": [],
   "source": [
    "df_data.drop_duplicates(inplace=True)"
   ]
  },
  {
   "cell_type": "code",
   "execution_count": 6,
   "metadata": {},
   "outputs": [
    {
     "data": {
      "text/html": [
       "<div>\n",
       "<style scoped>\n",
       "    .dataframe tbody tr th:only-of-type {\n",
       "        vertical-align: middle;\n",
       "    }\n",
       "\n",
       "    .dataframe tbody tr th {\n",
       "        vertical-align: top;\n",
       "    }\n",
       "\n",
       "    .dataframe thead th {\n",
       "        text-align: right;\n",
       "    }\n",
       "</style>\n",
       "<table border=\"1\" class=\"dataframe\">\n",
       "  <thead>\n",
       "    <tr style=\"text-align: right;\">\n",
       "      <th></th>\n",
       "      <th>Rating</th>\n",
       "    </tr>\n",
       "  </thead>\n",
       "  <tbody>\n",
       "    <tr>\n",
       "      <th>count</th>\n",
       "      <td>8893.000000</td>\n",
       "    </tr>\n",
       "    <tr>\n",
       "      <th>mean</th>\n",
       "      <td>4.189542</td>\n",
       "    </tr>\n",
       "    <tr>\n",
       "      <th>std</th>\n",
       "      <td>0.545452</td>\n",
       "    </tr>\n",
       "    <tr>\n",
       "      <th>min</th>\n",
       "      <td>1.000000</td>\n",
       "    </tr>\n",
       "    <tr>\n",
       "      <th>25%</th>\n",
       "      <td>4.000000</td>\n",
       "    </tr>\n",
       "    <tr>\n",
       "      <th>50%</th>\n",
       "      <td>4.300000</td>\n",
       "    </tr>\n",
       "    <tr>\n",
       "      <th>75%</th>\n",
       "      <td>4.500000</td>\n",
       "    </tr>\n",
       "    <tr>\n",
       "      <th>max</th>\n",
       "      <td>19.000000</td>\n",
       "    </tr>\n",
       "  </tbody>\n",
       "</table>\n",
       "</div>"
      ],
      "text/plain": [
       "            Rating\n",
       "count  8893.000000\n",
       "mean      4.189542\n",
       "std       0.545452\n",
       "min       1.000000\n",
       "25%       4.000000\n",
       "50%       4.300000\n",
       "75%       4.500000\n",
       "max      19.000000"
      ]
     },
     "execution_count": 6,
     "metadata": {},
     "output_type": "execute_result"
    }
   ],
   "source": [
    "df_data.describe()"
   ]
  },
  {
   "cell_type": "markdown",
   "metadata": {},
   "source": [
    "### max rating can't be 19 "
   ]
  },
  {
   "cell_type": "markdown",
   "metadata": {},
   "source": [
    "# ● Fix Rating"
   ]
  },
  {
   "cell_type": "code",
   "execution_count": 7,
   "metadata": {},
   "outputs": [],
   "source": [
    "df_data.drop(df_data[df_data['Rating']>5.0].index,inplace=True)"
   ]
  },
  {
   "cell_type": "code",
   "execution_count": 8,
   "metadata": {},
   "outputs": [
    {
     "data": {
      "text/plain": [
       "np.float64(5.0)"
      ]
     },
     "execution_count": 8,
     "metadata": {},
     "output_type": "execute_result"
    }
   ],
   "source": [
    "df_data['Rating'].max()"
   ]
  },
  {
   "cell_type": "code",
   "execution_count": 9,
   "metadata": {},
   "outputs": [],
   "source": [
    "df_data['Rating'] = df_data['Rating'].fillna(df_data['Rating'].median())\n"
   ]
  },
  {
   "cell_type": "code",
   "execution_count": 10,
   "metadata": {},
   "outputs": [],
   "source": [
    "Q1 = df_data['Rating'].quantile(0.25)\n",
    "Q3 = df_data['Rating'].quantile(0.75)\n",
    "IQR = Q3 - Q1\n",
    "\n",
    "l = Q1 - 1.5 * IQR\n",
    "u = Q3 + 1.5 * IQR\n",
    "\n",
    "df_data = df_data[(df_data['Rating'] >= l) & (df_data['Rating'] <= u)]\n"
   ]
  },
  {
   "cell_type": "code",
   "execution_count": 11,
   "metadata": {},
   "outputs": [
    {
     "name": "stdout",
     "output_type": "stream",
     "text": [
      "[]\n"
     ]
    }
   ],
   "source": [
    "outliers_indices = detect_outliers(df_data, 0, ['Rating'])\n",
    "print(outliers_indices)\n"
   ]
  },
  {
   "cell_type": "markdown",
   "metadata": {},
   "source": [
    "# ● Fix Size"
   ]
  },
  {
   "cell_type": "code",
   "execution_count": 12,
   "metadata": {},
   "outputs": [
    {
     "data": {
      "text/plain": [
       "array(['19M', '14M', '8.7M', '25M', '2.8M', '5.6M', '29M', '33M', '3.1M',\n",
       "       '28M', '12M', '20M', '21M', '37M', '5.5M', '17M', '39M', '31M',\n",
       "       '4.2M', '7.0M', '23M', '6.0M', '6.1M', '4.6M', '9.2M', '5.2M',\n",
       "       '11M', '24M', 'Varies with device', '9.4M', '15M', '10M', '1.2M',\n",
       "       '26M', '8.0M', '7.9M', '56M', '57M', '35M', '54M', '201k', '3.6M',\n",
       "       '5.7M', '8.6M', '2.4M', '27M', '2.7M', '2.5M', '16M', '3.4M',\n",
       "       '8.9M', '3.9M', '2.9M', '38M', '32M', '5.4M', '18M', '2.2M',\n",
       "       '4.5M', '9.8M', '52M', '9.0M', '6.7M', '30M', '2.6M', '7.1M',\n",
       "       '3.7M', '22M', '7.4M', '6.4M', '3.2M', '8.2M', '9.9M', '4.9M',\n",
       "       '9.5M', '5.0M', '5.9M', '13M', '73M', '6.8M', '3.5M', '2.3M',\n",
       "       '7.2M', '2.1M', '42M', '7.3M', '9.1M', '55M', '6.5M', '1.5M',\n",
       "       '7.5M', '51M', '41M', '48M', '8.5M', '46M', '8.3M', '4.3M', '4.7M',\n",
       "       '3.3M', '40M', '7.8M', '8.8M', '6.6M', '5.1M', '4.0M', '61M',\n",
       "       '66M', '79k', '8.4M', '118k', '44M', '695k', '1.6M', '18k', '6.2M',\n",
       "       '5.8M', '9.6M', '63M', '49M', '77M', '4.4M', '4.8M', '70M', '6.9M',\n",
       "       '9.3M', '10.0M', '3.8M', '8.1M', '36M', '3.0M', '84M', '97M',\n",
       "       '2.0M', '1.9M', '1.8M', '5.3M', '47M', '556k', '526k', '76M',\n",
       "       '7.6M', '59M', '9.7M', '78M', '72M', '43M', '7.7M', '53M', '6.3M',\n",
       "       '334k', '1.4M', '34M', '93M', '65M', '79M', '100M', '58M', '45M',\n",
       "       '50M', '68M', '67M', '60M', '94M', '232k', '99M', '624k', '95M',\n",
       "       '8.5k', '41k', '292k', '11k', '80M', '1.7M', '74M', '62M', '69M',\n",
       "       '75M', '98M', '85M', '82M', '96M', '87M', '71M', '86M', '91M',\n",
       "       '81M', '92M', '64M', '83M', '88M', '704k', '862k', '899k', '378k',\n",
       "       '266k', '375k', '1.3M', '975k', '980k', '4.1M', '89M', '1.1M',\n",
       "       '696k', '544k', '525k', '920k', '779k', '853k', '720k', '713k',\n",
       "       '772k', '58k', '241k', '196k', '857k', '51k', '953k', '865k',\n",
       "       '251k', '930k', '540k', '313k', '746k', '203k', '26k', '314k',\n",
       "       '239k', '371k', '220k', '730k', '756k', '17k', '74k', '14k',\n",
       "       '317k', '78k', '924k', '902k', '818k', '81k', '939k', '169k',\n",
       "       '45k', '475k', '965k', '90M', '545k', '61k', '283k', '655k',\n",
       "       '714k', '93k', '872k', '121k', '1.0M', '976k', '172k', '238k',\n",
       "       '549k', '206k', '954k', '444k', '210k', '609k', '308k', '705k',\n",
       "       '904k', '473k', '175k', '350k', '383k', '454k', '421k', '70k',\n",
       "       '812k', '442k', '842k', '417k', '412k', '459k', '478k', '335k',\n",
       "       '782k', '721k', '430k', '429k', '192k', '200k', '460k', '728k',\n",
       "       '496k', '816k', '414k', '506k', '613k', '243k', '569k', '778k',\n",
       "       '683k', '592k', '319k', '186k', '840k', '647k', '191k', '373k',\n",
       "       '437k', '598k', '716k', '585k', '982k', '222k', '55k', '948k',\n",
       "       '323k', '691k', '511k', '951k', '963k', '25k', '554k', '351k',\n",
       "       '27k', '82k', '208k', '913k', '514k', '551k', '29k', '103k',\n",
       "       '898k', '743k', '116k', '153k', '209k', '353k', '499k', '173k',\n",
       "       '597k', '809k', '122k', '411k', '400k', '801k', '787k', '237k',\n",
       "       '50k', '986k', '97k', '516k', '837k', '780k', '961k', '269k',\n",
       "       '20k', '600k', '749k', '642k', '881k', '72k', '656k', '601k',\n",
       "       '228k', '108k', '940k', '176k', '33k', '663k', '34k', '942k',\n",
       "       '259k', '164k', '245k', '28k', '288k', '775k', '994k', '309k',\n",
       "       '485k', '914k', '608k', '500k', '54k', '562k', '847k', '957k',\n",
       "       '688k', '811k', '270k', '48k', '329k', '921k', '874k', '981k',\n",
       "       '784k', '280k', '24k', '518k', '754k', '892k', '154k', '860k',\n",
       "       '364k', '387k', '626k', '879k', '970k', '141k', '190k', '376k',\n",
       "       '193k', '73k', '658k', '992k', '253k', '420k', '404k', '470k',\n",
       "       '226k', '240k', '89k', '257k', '861k', '467k', '157k', '44k',\n",
       "       '676k', '67k', '552k', '885k', '1020k', '582k', '619k'],\n",
       "      dtype=object)"
      ]
     },
     "execution_count": 12,
     "metadata": {},
     "output_type": "execute_result"
    }
   ],
   "source": [
    "df_data['Size'].unique()"
   ]
  },
  {
   "cell_type": "code",
   "execution_count": 13,
   "metadata": {},
   "outputs": [],
   "source": [
    "def convert_size(size):\n",
    "        size = size.lower()  \n",
    "        if \"m\" in size:\n",
    "            return float(size.replace(\"m\", \"\"))\n",
    "        elif \"k\" in size:\n",
    "            return float(size.replace(\"k\", \"\")) / 1024 \n",
    "df_data = df_data[df_data[\"Size\"] != \"Varies with device\"]\n",
    "df_data[\"Size\"] = df_data[\"Size\"].apply(convert_size)\n",
    "df_data[\"Size\"] = df_data[\"Size\"].astype(float)\n"
   ]
  },
  {
   "cell_type": "code",
   "execution_count": 14,
   "metadata": {},
   "outputs": [
    {
     "name": "stdout",
     "output_type": "stream",
     "text": [
      "[]\n"
     ]
    }
   ],
   "source": [
    "def remove_outliers_iqr(df, column):\n",
    "    while True:\n",
    "        Q1 = df[column].quantile(0.25)\n",
    "        Q3 = df[column].quantile(0.75)\n",
    "        IQR = Q3 - Q1\n",
    "        lower_bound = Q1 - 1.5 * IQR\n",
    "        upper_bound = Q3 + 1.5 * IQR\n",
    "        outliers = df[(df[column] < lower_bound) | (df[column] > upper_bound)]\n",
    "        if outliers.empty:\n",
    "            break\n",
    "        df = df[(df[column] >= lower_bound) & (df[column] <= upper_bound)]\n",
    "\n",
    "    return df\n",
    "df_data = remove_outliers_iqr(df_data, 'Size')\n",
    "outliers_indices = detect_outliers(df_data, 0, ['Size'])\n",
    "print(outliers_indices)\n",
    "\n"
   ]
  },
  {
   "cell_type": "code",
   "execution_count": 15,
   "metadata": {},
   "outputs": [
    {
     "data": {
      "text/plain": [
       "array([1.90000000e+01, 1.40000000e+01, 8.70000000e+00, 2.50000000e+01,\n",
       "       2.80000000e+00, 5.60000000e+00, 2.90000000e+01, 3.30000000e+01,\n",
       "       3.10000000e+00, 2.80000000e+01, 1.20000000e+01, 2.00000000e+01,\n",
       "       2.10000000e+01, 3.70000000e+01, 5.50000000e+00, 1.70000000e+01,\n",
       "       3.90000000e+01, 3.10000000e+01, 4.20000000e+00, 7.00000000e+00,\n",
       "       2.30000000e+01, 6.00000000e+00, 6.10000000e+00, 4.60000000e+00,\n",
       "       9.20000000e+00, 5.20000000e+00, 1.10000000e+01, 2.40000000e+01,\n",
       "       9.40000000e+00, 1.50000000e+01, 1.00000000e+01, 1.20000000e+00,\n",
       "       2.60000000e+01, 8.00000000e+00, 7.90000000e+00, 3.50000000e+01,\n",
       "       1.96289062e-01, 3.60000000e+00, 5.70000000e+00, 8.60000000e+00,\n",
       "       2.40000000e+00, 2.70000000e+01, 2.70000000e+00, 2.50000000e+00,\n",
       "       1.60000000e+01, 3.40000000e+00, 8.90000000e+00, 3.90000000e+00,\n",
       "       2.90000000e+00, 3.80000000e+01, 3.20000000e+01, 5.40000000e+00,\n",
       "       1.80000000e+01, 2.20000000e+00, 4.50000000e+00, 9.80000000e+00,\n",
       "       5.20000000e+01, 9.00000000e+00, 6.70000000e+00, 3.00000000e+01,\n",
       "       2.60000000e+00, 7.10000000e+00, 3.70000000e+00, 2.20000000e+01,\n",
       "       7.40000000e+00, 6.40000000e+00, 3.20000000e+00, 8.20000000e+00,\n",
       "       9.90000000e+00, 4.90000000e+00, 9.50000000e+00, 5.00000000e+00,\n",
       "       5.90000000e+00, 1.30000000e+01, 6.80000000e+00, 3.50000000e+00,\n",
       "       2.30000000e+00, 7.20000000e+00, 2.10000000e+00, 4.20000000e+01,\n",
       "       7.30000000e+00, 9.10000000e+00, 6.50000000e+00, 1.50000000e+00,\n",
       "       7.50000000e+00, 5.10000000e+01, 4.10000000e+01, 4.80000000e+01,\n",
       "       8.50000000e+00, 4.60000000e+01, 8.30000000e+00, 4.30000000e+00,\n",
       "       4.70000000e+00, 3.30000000e+00, 4.00000000e+01, 7.80000000e+00,\n",
       "       8.80000000e+00, 6.60000000e+00, 5.10000000e+00, 4.00000000e+00,\n",
       "       7.71484375e-02, 8.40000000e+00, 1.15234375e-01, 4.40000000e+01,\n",
       "       6.78710938e-01, 1.60000000e+00, 1.75781250e-02, 6.20000000e+00,\n",
       "       5.80000000e+00, 9.60000000e+00, 4.90000000e+01, 4.40000000e+00,\n",
       "       4.80000000e+00, 6.90000000e+00, 9.30000000e+00, 3.80000000e+00,\n",
       "       8.10000000e+00, 3.60000000e+01, 3.00000000e+00, 2.00000000e+00,\n",
       "       1.90000000e+00, 1.80000000e+00, 5.30000000e+00, 4.70000000e+01,\n",
       "       5.42968750e-01, 5.13671875e-01, 7.60000000e+00, 9.70000000e+00,\n",
       "       4.30000000e+01, 7.70000000e+00, 5.30000000e+01, 6.30000000e+00,\n",
       "       3.26171875e-01, 1.40000000e+00, 3.40000000e+01, 4.50000000e+01,\n",
       "       5.00000000e+01, 2.26562500e-01, 6.09375000e-01, 8.30078125e-03,\n",
       "       4.00390625e-02, 2.85156250e-01, 1.07421875e-02, 1.70000000e+00,\n",
       "       6.87500000e-01, 8.41796875e-01, 8.77929688e-01, 3.69140625e-01,\n",
       "       2.59765625e-01, 3.66210938e-01, 1.30000000e+00, 9.52148438e-01,\n",
       "       9.57031250e-01, 4.10000000e+00, 1.10000000e+00, 6.79687500e-01,\n",
       "       5.31250000e-01, 5.12695312e-01, 8.98437500e-01, 7.60742188e-01,\n",
       "       8.33007812e-01, 7.03125000e-01, 6.96289062e-01, 7.53906250e-01,\n",
       "       5.66406250e-02, 2.35351562e-01, 1.91406250e-01, 8.36914062e-01,\n",
       "       4.98046875e-02, 9.30664062e-01, 8.44726562e-01, 2.45117188e-01,\n",
       "       9.08203125e-01, 5.27343750e-01, 3.05664062e-01, 7.28515625e-01,\n",
       "       1.98242188e-01, 2.53906250e-02, 3.06640625e-01, 2.33398438e-01,\n",
       "       3.62304688e-01, 2.14843750e-01, 7.12890625e-01, 7.38281250e-01,\n",
       "       1.66015625e-02, 7.22656250e-02, 1.36718750e-02, 3.09570312e-01,\n",
       "       7.61718750e-02, 9.02343750e-01, 8.80859375e-01, 7.98828125e-01,\n",
       "       7.91015625e-02, 9.16992188e-01, 1.65039062e-01, 4.39453125e-02,\n",
       "       4.63867188e-01, 9.42382812e-01, 5.32226562e-01, 5.95703125e-02,\n",
       "       2.76367188e-01, 6.39648438e-01, 6.97265625e-01, 9.08203125e-02,\n",
       "       8.51562500e-01, 1.18164062e-01, 1.00000000e+00, 9.53125000e-01,\n",
       "       1.67968750e-01, 2.32421875e-01, 5.36132812e-01, 2.01171875e-01,\n",
       "       9.31640625e-01, 4.33593750e-01, 2.05078125e-01, 5.94726562e-01,\n",
       "       3.00781250e-01, 6.88476562e-01, 8.82812500e-01, 4.61914062e-01,\n",
       "       1.70898438e-01, 3.41796875e-01, 3.74023438e-01, 4.43359375e-01,\n",
       "       4.11132812e-01, 6.83593750e-02, 7.92968750e-01, 4.31640625e-01,\n",
       "       8.22265625e-01, 4.07226562e-01, 4.02343750e-01, 4.48242188e-01,\n",
       "       4.66796875e-01, 3.27148438e-01, 7.63671875e-01, 7.04101562e-01,\n",
       "       4.19921875e-01, 4.18945312e-01, 1.87500000e-01, 1.95312500e-01,\n",
       "       4.49218750e-01, 7.10937500e-01, 4.84375000e-01, 7.96875000e-01,\n",
       "       4.04296875e-01, 4.94140625e-01, 5.98632812e-01, 2.37304688e-01,\n",
       "       5.55664062e-01, 7.59765625e-01, 6.66992188e-01, 5.78125000e-01,\n",
       "       3.11523438e-01, 1.81640625e-01, 8.20312500e-01, 6.31835938e-01,\n",
       "       1.86523438e-01, 3.64257812e-01, 4.26757812e-01, 5.83984375e-01,\n",
       "       6.99218750e-01, 5.71289062e-01, 9.58984375e-01, 2.16796875e-01,\n",
       "       5.37109375e-02, 9.25781250e-01, 3.15429688e-01, 6.74804688e-01,\n",
       "       4.99023438e-01, 9.28710938e-01, 9.40429688e-01, 2.44140625e-02,\n",
       "       5.41015625e-01, 3.42773438e-01, 2.63671875e-02, 8.00781250e-02,\n",
       "       2.03125000e-01, 8.91601562e-01, 5.01953125e-01, 5.38085938e-01,\n",
       "       2.83203125e-02, 1.00585938e-01, 8.76953125e-01, 7.25585938e-01,\n",
       "       1.13281250e-01, 1.49414062e-01, 2.04101562e-01, 3.44726562e-01,\n",
       "       4.87304688e-01, 1.68945312e-01, 5.83007812e-01, 7.90039062e-01,\n",
       "       1.19140625e-01, 4.01367188e-01, 3.90625000e-01, 7.82226562e-01,\n",
       "       7.68554688e-01, 2.31445312e-01, 4.88281250e-02, 9.62890625e-01,\n",
       "       9.47265625e-02, 5.03906250e-01, 8.17382812e-01, 7.61718750e-01,\n",
       "       9.38476562e-01, 2.62695312e-01, 1.95312500e-02, 5.85937500e-01,\n",
       "       7.31445312e-01, 6.26953125e-01, 8.60351562e-01, 7.03125000e-02,\n",
       "       6.40625000e-01, 5.86914062e-01, 2.22656250e-01, 1.05468750e-01,\n",
       "       9.17968750e-01, 1.71875000e-01, 3.22265625e-02, 6.47460938e-01,\n",
       "       3.32031250e-02, 9.19921875e-01, 2.52929688e-01, 1.60156250e-01,\n",
       "       2.39257812e-01, 2.73437500e-02, 2.81250000e-01, 7.56835938e-01,\n",
       "       9.70703125e-01, 3.01757812e-01, 4.73632812e-01, 8.92578125e-01,\n",
       "       5.93750000e-01, 4.88281250e-01, 5.27343750e-02, 5.48828125e-01,\n",
       "       8.27148438e-01, 9.34570312e-01, 6.71875000e-01, 7.91992188e-01,\n",
       "       2.63671875e-01, 4.68750000e-02, 3.21289062e-01, 8.99414062e-01,\n",
       "       8.53515625e-01, 9.58007812e-01, 7.65625000e-01, 2.73437500e-01,\n",
       "       2.34375000e-02, 5.05859375e-01, 7.36328125e-01, 8.71093750e-01,\n",
       "       1.50390625e-01, 8.39843750e-01, 3.55468750e-01, 3.77929688e-01,\n",
       "       6.11328125e-01, 8.58398438e-01, 9.47265625e-01, 1.37695312e-01,\n",
       "       1.85546875e-01, 3.67187500e-01, 1.88476562e-01, 7.12890625e-02,\n",
       "       6.42578125e-01, 9.68750000e-01, 2.47070312e-01, 4.10156250e-01,\n",
       "       3.94531250e-01, 4.58984375e-01, 2.20703125e-01, 2.34375000e-01,\n",
       "       8.69140625e-02, 2.50976562e-01, 8.40820312e-01, 4.56054688e-01,\n",
       "       1.53320312e-01, 4.29687500e-02, 6.60156250e-01, 6.54296875e-02,\n",
       "       5.39062500e-01, 8.64257812e-01, 9.96093750e-01, 5.68359375e-01,\n",
       "       6.04492188e-01])"
      ]
     },
     "execution_count": 15,
     "metadata": {},
     "output_type": "execute_result"
    }
   ],
   "source": [
    "df_data['Size'].unique()"
   ]
  },
  {
   "cell_type": "markdown",
   "metadata": {},
   "source": [
    "# ● Fix Price"
   ]
  },
  {
   "cell_type": "code",
   "execution_count": 16,
   "metadata": {},
   "outputs": [
    {
     "data": {
      "text/plain": [
       "array(['0', '$4.99', '$1.49', '$2.99', '$3.99', '$7.99', '$5.99', '$1.99',\n",
       "       '$6.99', '$9.99', '$0.99', '$9.00', '$5.49', '$10.00', '$24.99',\n",
       "       '$11.99', '$79.99', '$16.99', '$14.99', '$1.00', '$12.99', '$3.49',\n",
       "       '$10.99', '$1.50', '$19.99', '$29.99', '$74.99', '$39.99', '$2.49',\n",
       "       '$4.49', '$1.70', '$2.00', '$3.88', '$25.99', '$399.99', '$17.99',\n",
       "       '$400.00', '$3.02', '$1.76', '$4.84', '$1.61', '$1.59', '$1.29',\n",
       "       '$5.00', '$13.99', '$299.99', '$37.99', '$18.99', '$389.99',\n",
       "       '$19.90', '$8.49', '$1.75', '$14.00', '$4.85', '$46.99', '$109.99',\n",
       "       '$154.99', '$3.08', '$2.59', '$4.80', '$8.99', '$1.96', '$19.40',\n",
       "       '$3.04', '$4.29', '$2.60', '$3.28', '$28.99', '$2.90', '$1.97',\n",
       "       '$200.00', '$89.99', '$30.99', '$3.61', '$394.99', '$1.26',\n",
       "       '$6.49', '$1.20', '$1.04'], dtype=object)"
      ]
     },
     "execution_count": 16,
     "metadata": {},
     "output_type": "execute_result"
    }
   ],
   "source": [
    "df_data['Price'].unique()"
   ]
  },
  {
   "cell_type": "code",
   "execution_count": 17,
   "metadata": {},
   "outputs": [],
   "source": [
    "df_data['Price'] = df_data['Price'].str.strip('$')\n",
    "df_data['Price'] = df_data['Price'].astype('float')"
   ]
  },
  {
   "cell_type": "code",
   "execution_count": 18,
   "metadata": {},
   "outputs": [
    {
     "name": "stdout",
     "output_type": "stream",
     "text": [
      "[234, 235, 478, 479, 480, 481, 852, 853, 854, 1001, 1228, 1335, 1832, 1833, 1835, 1837, 1838, 1839, 2086, 2151, 2152, 2153, 2154, 2170, 2171, 2172, 2173, 2175, 2177, 2178, 2179, 2189, 2190, 2192, 2242, 2243, 2244, 2245, 2246, 2248, 2250, 2251, 2252, 2253, 2254, 2255, 2256, 2257, 2258, 2259, 2261, 2262, 2263, 2265, 2267, 2268, 2269, 2270, 2271, 2272, 2273, 2274, 2275, 2277, 2278, 2279, 2281, 2283, 2285, 2286, 2288, 2289, 2292, 2293, 2294, 2296, 2297, 2298, 2302, 2390, 2414, 2422, 2423, 2425, 2883, 2906, 3039, 3403, 3405, 3408, 3441, 3658, 3957, 3959, 3964, 3966, 3968, 3985, 3997, 4034, 4047, 4057, 4108, 4134, 4139, 4140, 4156, 4158, 4166, 4169, 4172, 4173, 4175, 4177, 4178, 4190, 4192, 4197, 4203, 4260, 4265, 4293, 4299, 4301, 4316, 4362, 4367, 4380, 4391, 4395, 4397, 4400, 4409, 4411, 4413, 4416, 4417, 4419, 4423, 4427, 4429, 4431, 4433, 4437, 4450, 4451, 4452, 4453, 4456, 4457, 4458, 4459, 4460, 4461, 4462, 4465, 4466, 4468, 4471, 4487, 4488, 4489, 4491, 4508, 4521, 4534, 4542, 4554, 4561, 4571, 4577, 4585, 4606, 4612, 4613, 4616, 4619, 4620, 4621, 4637, 4694, 4697, 4708, 4711, 4716, 4743, 4755, 4759, 4764, 4769, 4773, 4776, 4779, 4781, 4788, 4789, 4813, 4845, 4848, 4882, 4938, 4952, 4955, 4958, 4962, 4963, 4964, 4971, 4977, 4980, 4983, 4988, 5005, 5036, 5040, 5051, 5083, 5094, 5126, 5144, 5217, 5221, 5224, 5237, 5252, 5257, 5260, 5263, 5265, 5269, 5307, 5341, 5351, 5354, 5355, 5356, 5358, 5359, 5360, 5361, 5362, 5364, 5366, 5367, 5369, 5371, 5373, 5411, 5412, 5465, 5466, 5475, 5476, 5480, 5482, 5486, 5500, 5578, 5586, 5627, 5631, 5645, 5648, 5739, 5756, 5777, 5804, 5812, 5832, 5834, 5846, 5909, 5911, 5912, 5917, 5924, 5927, 5942, 5945, 5955, 5959, 5961, 5966, 5973, 5977, 6056, 6102, 6115, 6132, 6140, 6180, 6198, 6202, 6205, 6252, 6292, 6311, 6341, 6361, 6366, 6389, 6413, 6425, 6428, 6429, 6432, 6440, 6446, 6457, 6459, 6491, 6496, 6508, 6534, 6538, 6549, 6553, 6555, 6559, 6560, 6565, 6567, 6570, 6596, 6624, 6675, 6680, 6692, 6732, 6753, 6760, 6766, 6796, 6808, 6809, 6886, 6895, 6919, 6925, 6929, 6936, 6943, 6974, 6985, 7037, 7100, 7107, 7145, 7148, 7165, 7183, 7193, 7196, 7198, 7204, 7211, 7215, 7225, 7237, 7244, 7255, 7328, 7333, 7335, 7342, 7346, 7347, 7357, 7375, 7377, 7384, 7390, 7417, 7465, 7466, 7477, 7504, 7538, 7555, 7578, 7580, 7584, 7585, 7586, 7610, 7617, 7618, 7619, 7620, 7627, 7665, 7730, 7738, 7745, 7774, 7775, 7792, 7810, 7822, 7832, 7862, 7893, 7897, 7898, 7899, 7962, 7993, 7997, 7999, 8003, 8004, 8006, 8012, 8014, 8017, 8018, 8019, 8021, 8051, 8074, 8077, 8137, 8139, 8140, 8145, 8149, 8150, 8151, 8161, 8164, 8176, 8212, 8219, 8225, 8242, 8251, 8282, 8286, 8287, 8321, 8328, 8346, 8348, 8350, 8359, 8362, 8364, 8371, 8376, 8449, 8482, 8489, 8511, 8526, 8565, 8574, 8590, 8600, 8604, 8616, 8618, 8719, 8722, 8723, 8724, 8726, 8733, 8736, 8755, 8777, 8778, 8780, 8785, 8787, 8792, 8793, 8795, 8804, 8825, 8841, 8845, 8853, 8887, 8890, 8912, 8950, 8993, 9010, 9024, 9026, 9028, 9045, 9054, 9056, 9057, 9058, 9060, 9063, 9065, 9096, 9101, 9104, 9151, 9154, 9206, 9220, 9227, 9294, 9304, 9325, 9357, 9470, 9478, 9480, 9490, 9541, 9550, 9566, 9574, 9586, 9592, 9613, 9627, 9647, 9657, 9679, 9690, 9704, 9710, 9715, 9717, 9719, 9728, 9730, 9785, 9828, 9876, 9905, 9910, 9917, 9920, 9934, 10006, 10035, 10036, 10039, 10051, 10053, 10066, 10072, 10073, 10122, 10270, 10442, 10446, 10448, 10450, 10457, 10459, 10460, 10517, 10531, 10540, 10570, 10583, 10586, 10594, 10650, 10651, 10661, 10662, 10664, 10668, 10669, 10674, 10675, 10682, 10690, 10697, 10735, 10760, 10782, 10785, 10798]\n"
     ]
    }
   ],
   "source": [
    "outliers_indices = detect_outliers(df_data, 0, ['Price'])\n",
    "print(outliers_indices)\n"
   ]
  },
  {
   "cell_type": "code",
   "execution_count": 19,
   "metadata": {},
   "outputs": [
    {
     "data": {
      "image/png": "[encoded data removed]",
      "text/plain": [
       "<Figure size 1200x500 with 1 Axes>"
      ]
     },
     "metadata": {},
     "output_type": "display_data"
    }
   ],
   "source": [
    "plt.figure(figsize=(12, 5))\n",
    "sns.boxplot(x=df_data['Price'])\n",
    "plt.show()"
   ]
  },
  {
   "cell_type": "markdown",
   "metadata": {},
   "source": [
    "## Most of data outliers as they natural part of the dataset"
   ]
  },
  {
   "cell_type": "markdown",
   "metadata": {},
   "source": [
    "## ● Fix Category"
   ]
  },
  {
   "cell_type": "code",
   "execution_count": 20,
   "metadata": {},
   "outputs": [
    {
     "data": {
      "text/plain": [
       "array(['ART_AND_DESIGN', 'AUTO_AND_VEHICLES', 'BEAUTY',\n",
       "       'BOOKS_AND_REFERENCE', 'BUSINESS', 'COMICS', 'COMMUNICATION',\n",
       "       'DATING', 'EDUCATION', 'ENTERTAINMENT', 'EVENTS', 'FINANCE',\n",
       "       'FOOD_AND_DRINK', 'HEALTH_AND_FITNESS', 'HOUSE_AND_HOME',\n",
       "       'LIBRARIES_AND_DEMO', 'LIFESTYLE', 'GAME', 'FAMILY', 'MEDICAL',\n",
       "       'SOCIAL', 'SHOPPING', 'PHOTOGRAPHY', 'SPORTS', 'TRAVEL_AND_LOCAL',\n",
       "       'TOOLS', 'PERSONALIZATION', 'PRODUCTIVITY', 'PARENTING', 'WEATHER',\n",
       "       'VIDEO_PLAYERS', 'NEWS_AND_MAGAZINES', 'MAPS_AND_NAVIGATION'],\n",
       "      dtype=object)"
      ]
     },
     "execution_count": 20,
     "metadata": {},
     "output_type": "execute_result"
    }
   ],
   "source": [
    "df_data['Category'].unique()"
   ]
  },
  {
   "cell_type": "markdown",
   "metadata": {},
   "source": [
    "## Nothing wrong with Category"
   ]
  },
  {
   "cell_type": "markdown",
   "metadata": {},
   "source": [
    "# ● Fix Android Ver"
   ]
  },
  {
   "cell_type": "code",
   "execution_count": 21,
   "metadata": {},
   "outputs": [
    {
     "data": {
      "text/plain": [
       "array(['4.0.3 and up', '4.2 and up', '4.4 and up', '2.3 and up',\n",
       "       '3.0 and up', '4.1 and up', '4.0 and up', '2.2 and up',\n",
       "       '5.0 and up', '6.0 and up', '1.6 and up', '2.1 and up',\n",
       "       '5.1 and up', '1.5 and up', '7.0 and up', '4.3 and up',\n",
       "       '4.0.3 - 7.1.1', '2.0 and up', '2.3.3 and up',\n",
       "       'Varies with device', '3.2 and up', '4.4W and up', '7.1 and up',\n",
       "       '7.0 - 7.1.1', '8.0 and up', '5.0 - 8.0', '3.1 and up',\n",
       "       '2.0.1 and up', '4.1 - 7.1.1', nan, '5.0 - 6.0', '1.0 and up',\n",
       "       '2.2 - 7.1.1', '5.0 - 7.1.1'], dtype=object)"
      ]
     },
     "execution_count": 21,
     "metadata": {},
     "output_type": "execute_result"
    }
   ],
   "source": [
    "df_data['Android Ver'].unique()"
   ]
  },
  {
   "cell_type": "code",
   "execution_count": 22,
   "metadata": {},
   "outputs": [],
   "source": [
    "df_data = df_data.loc[df_data['Android Ver'] != 'Varies with device']\n",
    "df_data = df_data.dropna()"
   ]
  },
  {
   "cell_type": "markdown",
   "metadata": {},
   "source": [
    "# ● Fix Reviews"
   ]
  },
  {
   "cell_type": "code",
   "execution_count": 23,
   "metadata": {},
   "outputs": [],
   "source": [
    "df_data['Reviews'] = df_data['Reviews'].astype('float')"
   ]
  },
  {
   "cell_type": "markdown",
   "metadata": {},
   "source": [
    "# ● Fix Installs"
   ]
  },
  {
   "cell_type": "code",
   "execution_count": 24,
   "metadata": {},
   "outputs": [],
   "source": [
    "df_data['Installs'] = df_data['Installs'].str.replace(',', '').str.replace('+', '').astype(int)"
   ]
  },
  {
   "cell_type": "markdown",
   "metadata": {},
   "source": [
    "# Questions"
   ]
  },
  {
   "cell_type": "markdown",
   "metadata": {},
   "source": [
    "### 1.What is the most expensive app on the Play Store?"
   ]
  },
  {
   "cell_type": "code",
   "execution_count": 25,
   "metadata": {},
   "outputs": [
    {
     "data": {
      "text/plain": [
       "4367    I'm Rich - Trump Edition\n",
       "Name: App, dtype: object"
      ]
     },
     "execution_count": 25,
     "metadata": {},
     "output_type": "execute_result"
    }
   ],
   "source": [
    "max_price = df_data['Price'].max()\n",
    "max_price = df_data[df_data['Price'] == max_price]\n",
    "max_price['App']"
   ]
  },
  {
   "cell_type": "markdown",
   "metadata": {},
   "source": [
    "### 2.Which genre has the highest number of apps?"
   ]
  },
  {
   "cell_type": "code",
   "execution_count": 26,
   "metadata": {},
   "outputs": [
    {
     "name": "stdout",
     "output_type": "stream",
     "text": [
      "Tools\n"
     ]
    }
   ],
   "source": [
    "top_genre = df_data['Genres'].value_counts().idxmax()\n",
    "print(top_genre)"
   ]
  },
  {
   "cell_type": "markdown",
   "metadata": {},
   "source": [
    "### 3.What is the average size of free vs. paid apps?"
   ]
  },
  {
   "cell_type": "code",
   "execution_count": 27,
   "metadata": {},
   "outputs": [
    {
     "name": "stdout",
     "output_type": "stream",
     "text": [
      "Type\n",
      "Free    15.433058\n",
      "Paid    14.190778\n",
      "Name: Size, dtype: float64\n"
     ]
    }
   ],
   "source": [
    "avg_size_free_vs_paid = df_data.groupby('Type')['Size'].mean()\n",
    "print(avg_size_free_vs_paid)"
   ]
  },
  {
   "cell_type": "markdown",
   "metadata": {},
   "source": [
    "### 4.What are the top 5 most expensive apps with a perfect rating (5)?"
   ]
  },
  {
   "cell_type": "code",
   "execution_count": 28,
   "metadata": {},
   "outputs": [
    {
     "data": {
      "text/html": [
       "<div>\n",
       "<style scoped>\n",
       "    .dataframe tbody tr th:only-of-type {\n",
       "        vertical-align: middle;\n",
       "    }\n",
       "\n",
       "    .dataframe tbody tr th {\n",
       "        vertical-align: top;\n",
       "    }\n",
       "\n",
       "    .dataframe thead th {\n",
       "        text-align: right;\n",
       "    }\n",
       "</style>\n",
       "<table border=\"1\" class=\"dataframe\">\n",
       "  <thead>\n",
       "    <tr style=\"text-align: right;\">\n",
       "      <th></th>\n",
       "      <th>App</th>\n",
       "    </tr>\n",
       "  </thead>\n",
       "  <tbody>\n",
       "    <tr>\n",
       "      <th>7477</th>\n",
       "      <td>USMLE Step 2 CK Flashcards</td>\n",
       "    </tr>\n",
       "    <tr>\n",
       "      <th>5482</th>\n",
       "      <td>meStudying: AP English Lit</td>\n",
       "    </tr>\n",
       "    <tr>\n",
       "      <th>7204</th>\n",
       "      <td>TI-84 CE Graphing Calculator Manual TI 84</td>\n",
       "    </tr>\n",
       "    <tr>\n",
       "      <th>5237</th>\n",
       "      <td>Hey AJ! It's Saturday!</td>\n",
       "    </tr>\n",
       "    <tr>\n",
       "      <th>8287</th>\n",
       "      <td>AC DC Power Monitor</td>\n",
       "    </tr>\n",
       "  </tbody>\n",
       "</table>\n",
       "</div>"
      ],
      "text/plain": [
       "                                            App\n",
       "7477                 USMLE Step 2 CK Flashcards\n",
       "5482                 meStudying: AP English Lit\n",
       "7204  TI-84 CE Graphing Calculator Manual TI 84\n",
       "5237                     Hey AJ! It's Saturday!\n",
       "8287                        AC DC Power Monitor"
      ]
     },
     "execution_count": 28,
     "metadata": {},
     "output_type": "execute_result"
    }
   ],
   "source": [
    "top = df_data[(df_data['Rating'] == 5)].nlargest(5, 'Price')[['App']]\n",
    "top"
   ]
  },
  {
   "cell_type": "markdown",
   "metadata": {},
   "source": [
    "### 5.How many apps have received more than 50K reviews?"
   ]
  },
  {
   "cell_type": "code",
   "execution_count": 29,
   "metadata": {},
   "outputs": [
    {
     "name": "stdout",
     "output_type": "stream",
     "text": [
      "1167\n"
     ]
    }
   ],
   "source": [
    "reviews = df_data[(df_data['Reviews'] >= 50000)].count()\n",
    "print(reviews['Reviews'])"
   ]
  },
  {
   "cell_type": "markdown",
   "metadata": {},
   "source": [
    "### 6.What is the average price of apps, grouped by genre and number of installs?"
   ]
  },
  {
   "cell_type": "code",
   "execution_count": 30,
   "metadata": {},
   "outputs": [
    {
     "name": "stdout",
     "output_type": "stream",
     "text": [
      "Genres  Installs\n",
      "Action  10          0.000\n",
      "        50          0.995\n",
      "        100         0.330\n",
      "        500         0.000\n",
      "        1000        0.000\n",
      "                    ...  \n",
      "Word    100000      0.000\n",
      "        1000000     0.000\n",
      "        5000000     0.000\n",
      "        10000000    0.000\n",
      "        50000000    0.000\n",
      "Name: Price, Length: 808, dtype: float64\n"
     ]
    }
   ],
   "source": [
    "avg = df_data.groupby(['Genres', 'Installs'])['Price'].mean()\n",
    "print(avg)"
   ]
  },
  {
   "cell_type": "markdown",
   "metadata": {},
   "source": [
    "### 7.How many apps have a rating higher than 4.7, and what is their average price?"
   ]
  },
  {
   "cell_type": "code",
   "execution_count": 31,
   "metadata": {},
   "outputs": [
    {
     "name": "stdout",
     "output_type": "stream",
     "text": [
      "510\n",
      "0.3770392156862745\n"
     ]
    }
   ],
   "source": [
    "more_than_47 = df_data[(df_data['Rating']>4.7)].count()\n",
    "avg_price = df_data[(df_data['Rating']>4.7)]['Price'].mean()\n",
    "print(more_than_47.iloc[0])\n",
    "print(avg_price)"
   ]
  },
  {
   "cell_type": "markdown",
   "metadata": {},
   "source": [
    "### 8.What is Google&#39;s estimated revenue from apps with 5,000,000+ installs?"
   ]
  },
  {
   "cell_type": "code",
   "execution_count": 32,
   "metadata": {},
   "outputs": [
    {
     "name": "stdout",
     "output_type": "stream",
     "text": [
      "2970000.0\n"
     ]
    }
   ],
   "source": [
    "more_than = df_data[(df_data['Installs']>5000000)]\n",
    "revenue = (more_than['Installs'] * more_than['Price']).sum()\n",
    "revenue = revenue * 0.3\n",
    "print(revenue)"
   ]
  },
  {
   "cell_type": "markdown",
   "metadata": {},
   "source": [
    "### 9.What are the maximum and minimum sizes of free vs. paid apps?"
   ]
  },
  {
   "cell_type": "code",
   "execution_count": 33,
   "metadata": {},
   "outputs": [
    {
     "name": "stdout",
     "output_type": "stream",
     "text": [
      "free max 53.0 , free min 0.00830078125\n",
      "paid max 53.0 , paid min 0.0166015625\n"
     ]
    }
   ],
   "source": [
    "free_max = df_data[(df_data['Type'] == 'Free')]['Size'].max()\n",
    "free_min = df_data[(df_data['Type'] == 'Free')]['Size'].min()\n",
    "paid_max = df_data[(df_data['Type'] == 'Paid')]['Size'].max()\n",
    "paid_min = df_data[(df_data['Type'] == 'Paid')]['Size'].min()\n",
    "print('free max {} , free min {}'.format(free_max,free_min))\n",
    "print('paid max {} , paid min {}'.format(paid_max,paid_min))\n"
   ]
  },
  {
   "cell_type": "markdown",
   "metadata": {},
   "source": [
    "### 10.Is there a correlation between an app’s rating, number of reviews, size, and its price?"
   ]
  },
  {
   "cell_type": "code",
   "execution_count": 34,
   "metadata": {},
   "outputs": [
    {
     "data": {
      "text/html": [
       "<div>\n",
       "<style scoped>\n",
       "    .dataframe tbody tr th:only-of-type {\n",
       "        vertical-align: middle;\n",
       "    }\n",
       "\n",
       "    .dataframe tbody tr th {\n",
       "        vertical-align: top;\n",
       "    }\n",
       "\n",
       "    .dataframe thead th {\n",
       "        text-align: right;\n",
       "    }\n",
       "</style>\n",
       "<table border=\"1\" class=\"dataframe\">\n",
       "  <thead>\n",
       "    <tr style=\"text-align: right;\">\n",
       "      <th></th>\n",
       "      <th>Rating</th>\n",
       "      <th>Reviews</th>\n",
       "      <th>Size</th>\n",
       "      <th>Price</th>\n",
       "    </tr>\n",
       "  </thead>\n",
       "  <tbody>\n",
       "    <tr>\n",
       "      <th>Rating</th>\n",
       "      <td>1.000000</td>\n",
       "      <td>0.060164</td>\n",
       "      <td>-0.019350</td>\n",
       "      <td>-0.041592</td>\n",
       "    </tr>\n",
       "    <tr>\n",
       "      <th>Reviews</th>\n",
       "      <td>0.060164</td>\n",
       "      <td>1.000000</td>\n",
       "      <td>0.161564</td>\n",
       "      <td>-0.010594</td>\n",
       "    </tr>\n",
       "    <tr>\n",
       "      <th>Size</th>\n",
       "      <td>-0.019350</td>\n",
       "      <td>0.161564</td>\n",
       "      <td>1.000000</td>\n",
       "      <td>-0.017944</td>\n",
       "    </tr>\n",
       "    <tr>\n",
       "      <th>Price</th>\n",
       "      <td>-0.041592</td>\n",
       "      <td>-0.010594</td>\n",
       "      <td>-0.017944</td>\n",
       "      <td>1.000000</td>\n",
       "    </tr>\n",
       "  </tbody>\n",
       "</table>\n",
       "</div>"
      ],
      "text/plain": [
       "           Rating   Reviews      Size     Price\n",
       "Rating   1.000000  0.060164 -0.019350 -0.041592\n",
       "Reviews  0.060164  1.000000  0.161564 -0.010594\n",
       "Size    -0.019350  0.161564  1.000000 -0.017944\n",
       "Price   -0.041592 -0.010594 -0.017944  1.000000"
      ]
     },
     "execution_count": 34,
     "metadata": {},
     "output_type": "execute_result"
    }
   ],
   "source": [
    "cor = df_data[['Rating', 'Reviews', 'Size', 'Price']].corr()\n",
    "cor"
   ]
  },
  {
   "cell_type": "markdown",
   "metadata": {},
   "source": [
    "### 11.How many apps exist for each type (free/paid) across different content ratings?"
   ]
  },
  {
   "cell_type": "code",
   "execution_count": 35,
   "metadata": {},
   "outputs": [
    {
     "data": {
      "text/plain": [
       "Type  Content Rating \n",
       "Free  Adults only 18+       2\n",
       "      Everyone           5506\n",
       "      Everyone 10+        182\n",
       "      Mature 17+          270\n",
       "      Teen                670\n",
       "      Unrated               2\n",
       "Paid  Everyone            501\n",
       "      Everyone 10+         24\n",
       "      Mature 17+           15\n",
       "      Teen                 39\n",
       "Name: App, dtype: int64"
      ]
     },
     "execution_count": 35,
     "metadata": {},
     "output_type": "execute_result"
    }
   ],
   "source": [
    "app_count = df_data.groupby(['Type', 'Content Rating']).count()\n",
    "app_count['App']"
   ]
  },
  {
   "cell_type": "markdown",
   "metadata": {},
   "source": [
    "### 12.How many apps are compatible with Android version 4.x?"
   ]
  },
  {
   "cell_type": "code",
   "execution_count": 36,
   "metadata": {},
   "outputs": [
    {
     "name": "stdout",
     "output_type": "stream",
     "text": [
      "5232\n"
     ]
    }
   ],
   "source": [
    "ver_4 = df_data[df_data['Android Ver'].str.startswith(\"4\")].count()\n",
    "print(ver_4.iloc[0])"
   ]
  }
 ],
 "metadata": {
  "kernelspec": {
   "display_name": ".venv",
   "language": "python",
   "name": "python3"
  },
  "language_info": {
   "codemirror_mode": {
    "name": "ipython",
    "version": 3
   },
   "file_extension": ".py",
   "mimetype": "text/x-python",
   "name": "python",
   "nbconvert_exporter": "python",
   "pygments_lexer": "ipython3",
   "version": "3.13.1"
  }
 },
 "nbformat": 4,
 "nbformat_minor": 2
}
